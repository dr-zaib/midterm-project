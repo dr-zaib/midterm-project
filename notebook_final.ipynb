{
 "cells": [
  {
   "cell_type": "code",
   "execution_count": 8,
   "id": "1d2195da",
   "metadata": {},
   "outputs": [],
   "source": [
    "import numpy as np \n",
    "import pandas as pd\n",
    "\n",
    "from sklearn.feature_extraction import DictVectorizer\n",
    "\n",
    "\n",
    "from sklearn.model_selection import train_test_split\n",
    "from sklearn.model_selection import KFold\n",
    "\n",
    "\n",
    "from sklearn.ensemble import RandomForestClassifier\n",
    "\n",
    "\n",
    "from sklearn.metrics import accuracy_score, roc_auc_score\n",
    "\n",
    "\n",
    "import pickle5"
   ]
  },
  {
   "cell_type": "code",
   "execution_count": 9,
   "id": "5243b6ef",
   "metadata": {},
   "outputs": [],
   "source": [
    "dataset = pd.read_csv(r'/home/zaib/midterm-project/water_potability.csv')\n",
    "\n",
    "dataset.columns = dataset.columns.str.lower().str.replace(' ', '_')\n",
    "\n",
    "dataset = dataset.fillna(0)"
   ]
  },
  {
   "cell_type": "code",
   "execution_count": 10,
   "id": "f7247c90",
   "metadata": {},
   "outputs": [],
   "source": [
    "df_full_train, df_test = train_test_split(dataset, test_size=0.2, random_state=1)\n",
    "y_full_train = df_full_train.potability.values\n",
    "y_test = df_test.potability.values"
   ]
  },
  {
   "cell_type": "code",
   "execution_count": 11,
   "id": "8423d2fe",
   "metadata": {},
   "outputs": [],
   "source": [
    "# features\n",
    "\n",
    "features = [\n",
    "    'chloramines',\n",
    "    'conductivity',\n",
    "    'hardness',\n",
    "    'organic_carbon',\n",
    "    'ph',\n",
    "    'solids',\n",
    "    'sulfate',\n",
    "    'trihalomethanes',\n",
    "    'turbidity'\n",
    "]"
   ]
  },
  {
   "cell_type": "code",
   "execution_count": 12,
   "id": "9d868549",
   "metadata": {},
   "outputs": [],
   "source": [
    "### train and predict functions\n",
    "\n",
    "\n",
    "def train(df_train, y_train):\n",
    "    dicts = df_train[features].to_dict(orient='records')\n",
    "\n",
    "    dv = DictVectorizer(sparse=False)\n",
    "    X_train = dv.fit_transform(dicts)\n",
    "\n",
    "    n_estimators=110\n",
    "    max_depth=18\n",
    "    min_samples_leaf=1\n",
    "    max_features=3\n",
    "    class_weight='balanced'\n",
    "\n",
    "    model = RandomForestClassifier(n_estimators=n_estimators,\n",
    "                                max_depth=max_depth,\n",
    "                                min_samples_leaf=min_samples_leaf, \n",
    "                                max_features=max_features, \n",
    "                                bootstrap=True, \n",
    "                                class_weight=class_weight, \n",
    "                                random_state=1,\n",
    "                                n_jobs=-1)\n",
    "    model.fit(X_train, y_train)\n",
    "    \n",
    "    return dv, model\n",
    "\n",
    "\n",
    "\n",
    "def predict(df, dv, model):\n",
    "    dicts = df[features].to_dict(orient='records')\n",
    "\n",
    "    X = dv.transform(dicts)\n",
    "    y_pred = model.predict_proba(X)[:, 1]\n",
    "\n",
    "    return y_pred\n",
    "\n",
    "\n",
    "\n",
    "\n",
    "### metrics' functions\n",
    "\n",
    "\n",
    "def outcomes (y_test, y_pred):\n",
    "    \n",
    "    actual_positive = (y_test == 1)\n",
    "    actual_negative = (y_test == 0)\n",
    "    \n",
    "    predict_positive = (y_pred >= 0.5)\n",
    "    predict_negative = (y_pred < 0.5)\n",
    "    \n",
    "    tp = (predict_positive & actual_positive).sum()\n",
    "    tn = (predict_negative & actual_negative).sum()\n",
    "\n",
    "    fp = (predict_positive & actual_negative).sum()\n",
    "    fn = (predict_negative & actual_positive).sum()\n",
    "    \n",
    "    \n",
    "    return tp, tn, fp, fn\n",
    "\n",
    "\n",
    "\n",
    "\n",
    "def precision_score (tp, fp):\n",
    "    \n",
    "    p = 0.0\n",
    "    \n",
    "    if (tp + fp) != 0:\n",
    "        p = tp / (tp + fp)\n",
    "    \n",
    "    return p\n",
    "\n",
    "\n",
    "\n",
    "\n",
    "def recall_score (tp, fn):\n",
    "    \n",
    "    r = 0.0\n",
    "    \n",
    "    if (tp+fn) != 0:\n",
    "        r = tp / (tp + fn)\n",
    "    \n",
    "    return r\n",
    "\n",
    "\n",
    "\n",
    "\n",
    "def f1_score (p, r):\n",
    "    \n",
    "    f1 = 0.0\n",
    "    \n",
    "    if (p + r) != 0:\n",
    "        f1 = 2 * (p * r) / (p + r)\n",
    "    \n",
    "    return f1\n"
   ]
  },
  {
   "cell_type": "code",
   "execution_count": 34,
   "id": "ca3087f2",
   "metadata": {},
   "outputs": [
    {
     "name": "stdout",
     "output_type": "stream",
     "text": [
      "mean auc and std.:\n",
      "0.652 +- 0.040\n"
     ]
    }
   ],
   "source": [
    "# cross-validation\n",
    "\n",
    "n_splits=10\n",
    "kfold = KFold(n_splits=n_splits, shuffle=True, random_state=1)\n",
    "\n",
    "scores = []\n",
    "\n",
    "for train_idx, val_idx in kfold.split(df_full_train):\n",
    "    df_train_cross = df_full_train.iloc[train_idx]\n",
    "    df_val_cross = df_full_train.iloc[val_idx]\n",
    "\n",
    "    y_train_cross = df_train_cross.potability.values\n",
    "    y_val_cross = df_val_cross.potability.values\n",
    "\n",
    "    dv, model = train(df_train_cross, y_train_cross)\n",
    "    y_pred = predict(df_val_cross, dv, model)\n",
    "\n",
    "    auc = roc_auc_score(y_val_cross, y_pred)\n",
    "    scores.append(auc)\n",
    "\n",
    "print('mean auc and std.:')    \n",
    "print('%.3f +- %.3f' % (np.mean(scores), np.std(scores)))"
   ]
  },
  {
   "cell_type": "code",
   "execution_count": 16,
   "id": "192b71c6",
   "metadata": {},
   "outputs": [],
   "source": [
    "# final training\n",
    "\n",
    "dv, model = train(df_full_train, y_full_train)\n",
    "y_pred = predict(df_test, dv, model)"
   ]
  },
  {
   "cell_type": "code",
   "execution_count": 17,
   "id": "021140c5",
   "metadata": {},
   "outputs": [
    {
     "name": "stdout",
     "output_type": "stream",
     "text": [
      "tp=80, tn=339, fp=34, fn=203\n",
      "auc=0.692\n",
      "accuracy=0.639\n",
      "precision=0.702\n",
      "recall=0.283\n",
      "f1 score=0.403\n",
      "\n"
     ]
    }
   ],
   "source": [
    "# performances\n",
    "\n",
    "tp, tn, fp, fn = outcomes(y_test, y_pred)\n",
    "\n",
    "print(f'tp={tp}, tn={tn}, fp={fp}, fn={fn}')\n",
    "\n",
    "auc = roc_auc_score(y_test, y_pred)\n",
    "accuracy = accuracy_score(y_test, y_pred >= 0.5)\n",
    "\n",
    "precision = precision_score(tp, fp)\n",
    "recall = recall_score(tp, fn)\n",
    "f1score = f1_score(precision, recall)\n",
    "\n",
    "print(f'auc={round(auc, 3)}\\naccuracy={round(accuracy, 3)}\\nprecision={round(precision, 3)}\\nrecall={round(recall, 3)}\\nf1 score={round(f1score, 3)}')\n",
    "print()"
   ]
  },
  {
   "cell_type": "code",
   "execution_count": 18,
   "id": "70299dcb",
   "metadata": {},
   "outputs": [
    {
     "data": {
      "text/plain": [
       "'model_h2O_potability.bin'"
      ]
     },
     "execution_count": 18,
     "metadata": {},
     "output_type": "execute_result"
    }
   ],
   "source": [
    "# saving the model\n",
    "\n",
    "output_file = 'model_h2O_potability.bin'\n",
    "output_file"
   ]
  },
  {
   "cell_type": "code",
   "execution_count": 19,
   "id": "a7945419",
   "metadata": {},
   "outputs": [],
   "source": [
    "with open(output_file, 'wb') as f_out:\n",
    "    pickle5.dump((dv, model), f_out)"
   ]
  },
  {
   "cell_type": "code",
   "execution_count": 20,
   "id": "1fc0562a",
   "metadata": {},
   "outputs": [],
   "source": [
    "model_file = 'model_h2O_potability.bin'"
   ]
  },
  {
   "cell_type": "code",
   "execution_count": 21,
   "id": "c0508238",
   "metadata": {},
   "outputs": [],
   "source": [
    "with open(model_file, 'rb') as f_in:\n",
    "    dv, model = pickle5.load(f_in)"
   ]
  },
  {
   "cell_type": "code",
   "execution_count": 22,
   "id": "b2b28331",
   "metadata": {},
   "outputs": [
    {
     "data": {
      "text/plain": [
       "(DictVectorizer(sparse=False),\n",
       " RandomForestClassifier(class_weight='balanced', max_depth=18, max_features=3,\n",
       "                        n_estimators=110, n_jobs=-1, random_state=1))"
      ]
     },
     "execution_count": 22,
     "metadata": {},
     "output_type": "execute_result"
    }
   ],
   "source": [
    "dv, model"
   ]
  },
  {
   "cell_type": "code",
   "execution_count": 23,
   "id": "544ae484",
   "metadata": {},
   "outputs": [],
   "source": [
    "water = {\n",
    "    'ph': 5.584086638456089,\n",
    "    'hardness': 188.3133237696164,\n",
    "    'solids': 28748.68773904612,\n",
    "    'chloramines': 7.54486878877965,\n",
    "    'sulfate': 326.6783629116736,\n",
    "    'conductivity': 280.4679159334877,\n",
    "    'organic_carbon': 8.399734640152758,\n",
    "    'trihalomethanes': 54.91786184199447,\n",
    "    'turbidity': 2.5597082275565217\n",
    "}"
   ]
  },
  {
   "cell_type": "code",
   "execution_count": 32,
   "id": "c4a5c988",
   "metadata": {},
   "outputs": [],
   "source": [
    "#  'potability': 0.0"
   ]
  },
  {
   "cell_type": "code",
   "execution_count": 24,
   "id": "0f8146d2",
   "metadata": {},
   "outputs": [],
   "source": [
    "X = dv.transform([water])"
   ]
  },
  {
   "cell_type": "code",
   "execution_count": 25,
   "id": "8bfed43c",
   "metadata": {},
   "outputs": [
    {
     "data": {
      "text/plain": [
       "0.12499684772223393"
      ]
     },
     "execution_count": 25,
     "metadata": {},
     "output_type": "execute_result"
    }
   ],
   "source": [
    "model.predict_proba(X)[0, 1]"
   ]
  },
  {
   "cell_type": "code",
   "execution_count": 29,
   "id": "23ed3f28",
   "metadata": {},
   "outputs": [],
   "source": [
    "water = {\n",
    "    'ph': 9.05238368979066,\n",
    " 'hardness': 120.02172614502156,\n",
    " 'solids': 22203.487258877,\n",
    " 'chloramines': 9.36833977172888,\n",
    " 'sulfate': 285.2335275807391,\n",
    " 'conductivity': 372.2752322143662,\n",
    " 'organic_carbon': 14.538445861011496,\n",
    " 'trihalomethanes': 64.1324260352138,\n",
    " 'turbidity': 4.259719451958118\n",
    "}"
   ]
  },
  {
   "cell_type": "code",
   "execution_count": 31,
   "id": "59f08484",
   "metadata": {},
   "outputs": [],
   "source": [
    "#  'potability': 1.0"
   ]
  },
  {
   "cell_type": "code",
   "execution_count": 30,
   "id": "b64a9d23",
   "metadata": {},
   "outputs": [
    {
     "data": {
      "text/plain": [
       "0.7750289705877301"
      ]
     },
     "execution_count": 30,
     "metadata": {},
     "output_type": "execute_result"
    }
   ],
   "source": [
    "X = dv.transform([water])\n",
    "model.predict_proba(X)[0, 1]"
   ]
  },
  {
   "cell_type": "code",
   "execution_count": null,
   "id": "c50c6844",
   "metadata": {},
   "outputs": [],
   "source": []
  }
 ],
 "metadata": {
  "kernelspec": {
   "display_name": "Python 3 (ipykernel)",
   "language": "python",
   "name": "python3"
  },
  "language_info": {
   "codemirror_mode": {
    "name": "ipython",
    "version": 3
   },
   "file_extension": ".py",
   "mimetype": "text/x-python",
   "name": "python",
   "nbconvert_exporter": "python",
   "pygments_lexer": "ipython3",
   "version": "3.10.13"
  }
 },
 "nbformat": 4,
 "nbformat_minor": 5
}
